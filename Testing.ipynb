{
    "nbformat_minor": 1, 
    "cells": [
        {
            "source": "\nfrom datetime import datetime\n\nnow = datetime.now()\n\nmm = str(now.month)\n\ndd = str(now.day)\n\nyyyy = str(now.year)\n\nhour = str(now.hour)\n\nmi = str(now.minute)\n\nss = str(now.second)\n\nprint mm + \"/\" + dd + \"/\" + yyyy + \" \" + hour + \":\" + mi + \":\" + ss", 
            "cell_type": "code", 
            "metadata": {
                "collapsed": true
            }, 
            "outputs": [], 
            "execution_count": null
        }
    ], 
    "metadata": {
        "kernelspec": {
            "display_name": "Python 3.5 with Spark", 
            "name": "python3", 
            "language": "python3"
        }, 
        "language_info": {
            "mimetype": "text/x-python", 
            "nbconvert_exporter": "python", 
            "version": "3.5.4", 
            "name": "python", 
            "pygments_lexer": "ipython3", 
            "file_extension": ".py", 
            "codemirror_mode": {
                "version": 3, 
                "name": "ipython"
            }
        }
    }, 
    "nbformat": 4
}